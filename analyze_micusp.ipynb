{
 "cells": [
  {
   "cell_type": "code",
   "execution_count": 6,
   "metadata": {},
   "outputs": [],
   "source": [
    "import os\n",
    "from tqdm import tqdm\n",
    "from textalyser import Textalyser"
   ]
  },
  {
   "cell_type": "code",
   "execution_count": 7,
   "metadata": {},
   "outputs": [],
   "source": [
    "attrs = ['alt_readability',\n",
    " 'avg_sentence_length',\n",
    " 'avg_syllables',\n",
    " 'char_count',\n",
    " 'char_count_no_spaces',\n",
    " 'distinct_word_count',\n",
    " 'gunning_fog',\n",
    " 'lexical_density',\n",
    " 'longest_sentence',\n",
    " 'max_sentence_length',\n",
    " 'min_sentence_length',\n",
    " 'sentence_count',\n",
    " 'word_count']"
   ]
  },
  {
   "cell_type": "code",
   "execution_count": 9,
   "metadata": {},
   "outputs": [
    {
     "name": "stderr",
     "output_type": "stream",
     "text": [
      "100%|██████████| 828/828 [15:21<00:00,  1.34s/it]\n"
     ]
    }
   ],
   "source": [
    "articles = {}\n",
    "\n",
    "for article in tqdm(os.listdir('micusp_body')):\n",
    "    if '.txt' not in article:\n",
    "        continue\n",
    "    \n",
    "    with open(os.path.join('micusp_body', article)) as f:\n",
    "        t = Textalyser(f.read())\n",
    "    articles[article] = {attr: getattr(t, attr) for attr in attrs}"
   ]
  },
  {
   "cell_type": "code",
   "execution_count": 10,
   "metadata": {},
   "outputs": [],
   "source": [
    "import pickle\n",
    "with open('micusp_all.pickle', 'wb') as f:\n",
    "    pickle.dump(articles, f)"
   ]
  },
  {
   "cell_type": "code",
   "execution_count": 12,
   "metadata": {},
   "outputs": [],
   "source": [
    "import matplotlib.pyplot as plt"
   ]
  },
  {
   "cell_type": "code",
   "execution_count": 27,
   "metadata": {},
   "outputs": [
    {
     "data": {
      "text/plain": [
       "(array([185., 287., 164.,  97.,  38.,  28.,  10.,   9.,   5.,   5.]),\n",
       " array([ 141.,  734., 1327., 1920., 2513., 3106., 3699., 4292., 4885.,\n",
       "        5478., 6071.]),\n",
       " <a list of 10 Patch objects>)"
      ]
     },
     "execution_count": 27,
     "metadata": {},
     "output_type": "execute_result"
    },
    {
     "data": {
      "image/png": "[encoded data removed]",
      "text/plain": [
       "<Figure size 432x288 with 1 Axes>"
      ]
     },
     "metadata": {
      "needs_background": "light"
     },
     "output_type": "display_data"
    }
   ],
   "source": [
    "plt.hist([articles[i]['word_count'] for i in articles])"
   ]
  },
  {
   "cell_type": "code",
   "execution_count": 16,
   "metadata": {},
   "outputs": [
    {
     "data": {
      "text/plain": [
       "(array([  9.,  22.,  64., 137., 164., 165., 143.,  72.,  33.,  19.]),\n",
       " array([-2.1 ,  3.99, 10.08, 16.17, 22.26, 28.35, 34.44, 40.53, 46.62,\n",
       "        52.71, 58.8 ]),\n",
       " <a list of 10 Patch objects>)"
      ]
     },
     "execution_count": 16,
     "metadata": {},
     "output_type": "execute_result"
    },
    {
     "data": {
      "image/png": "[encoded data removed]",
      "text/plain": [
       "<Figure size 432x288 with 1 Axes>"
      ]
     },
     "metadata": {
      "needs_background": "light"
     },
     "output_type": "display_data"
    }
   ],
   "source": [
    "plt.hist([articles[i]['alt_readability'] for i in articles])"
   ]
  },
  {
   "cell_type": "code",
   "execution_count": 18,
   "metadata": {},
   "outputs": [],
   "source": [
    "import numpy as np"
   ]
  },
  {
   "cell_type": "code",
   "execution_count": 22,
   "metadata": {},
   "outputs": [
    {
     "data": {
      "text/plain": [
       "315"
      ]
     },
     "execution_count": 22,
     "metadata": {},
     "output_type": "execute_result"
    }
   ],
   "source": [
    "np.argmin([articles[i]['alt_readability'] for i in articles])"
   ]
  },
  {
   "cell_type": "code",
   "execution_count": 23,
   "metadata": {},
   "outputs": [
    {
     "data": {
      "text/plain": [
       "'BIO.G0.32.1.txt'"
      ]
     },
     "execution_count": 23,
     "metadata": {},
     "output_type": "execute_result"
    }
   ],
   "source": [
    "[i for i in articles][315]"
   ]
  },
  {
   "cell_type": "code",
   "execution_count": 26,
   "metadata": {},
   "outputs": [
    {
     "data": {
      "text/plain": [
       "{'alt_readability': -2.1,\n",
       " 'avg_sentence_length': 21.21,\n",
       " 'avg_syllables': 2.21,\n",
       " 'char_count': 8278,\n",
       " 'char_count_no_spaces': 5667,\n",
       " 'distinct_word_count': 503,\n",
       " 'gunning_fog': 14.4,\n",
       " 'lexical_density': 0.624,\n",
       " 'longest_sentence': ' the second observation that supports the dependence hypothesis is that among the ten largest reefs in the mesoamerican coral reef system extending from mexico to belize mumby s team observed that the reefs that were the largest and had the highest levels of biodiversity and productivity were those with the strongest links to coastal mangrove forests',\n",
       " 'max_sentence_length': 56,\n",
       " 'min_sentence_length': 1,\n",
       " 'sentence_count': 62,\n",
       " 'word_count': 806}"
      ]
     },
     "execution_count": 26,
     "metadata": {},
     "output_type": "execute_result"
    }
   ],
   "source": [
    "articles['BIO.G0.32.1.txt']"
   ]
  },
  {
   "cell_type": "code",
   "execution_count": 28,
   "metadata": {},
   "outputs": [],
   "source": [
    "import pandas as pd"
   ]
  },
  {
   "cell_type": "code",
   "execution_count": 35,
   "metadata": {},
   "outputs": [],
   "source": [
    "p = pd.DataFrame([{i: articles[j][i] for i in articles[j] if i != 'longest_sentence'} for j in articles])"
   ]
  },
  {
   "cell_type": "code",
   "execution_count": 39,
   "metadata": {},
   "outputs": [
    {
     "data": {
      "text/plain": [
       "<matplotlib.image.AxesImage at 0x11b3b41d0>"
      ]
     },
     "execution_count": 39,
     "metadata": {},
     "output_type": "execute_result"
    },
    {
     "data": {
      "image/png": "[encoded data removed]",
      "text/plain": [
       "<Figure size 288x288 with 1 Axes>"
      ]
     },
     "metadata": {
      "needs_background": "light"
     },
     "output_type": "display_data"
    }
   ],
   "source": [
    "plt.matshow(p.corr())"
   ]
  },
  {
   "cell_type": "code",
   "execution_count": 40,
   "metadata": {},
   "outputs": [
    {
     "data": {
      "text/html": [
       "<div>\n",
       "<style scoped>\n",
       "    .dataframe tbody tr th:only-of-type {\n",
       "        vertical-align: middle;\n",
       "    }\n",
       "\n",
       "    .dataframe tbody tr th {\n",
       "        vertical-align: top;\n",
       "    }\n",
       "\n",
       "    .dataframe thead th {\n",
       "        text-align: right;\n",
       "    }\n",
       "</style>\n",
       "<table border=\"1\" class=\"dataframe\">\n",
       "  <thead>\n",
       "    <tr style=\"text-align: right;\">\n",
       "      <th></th>\n",
       "      <th>alt_readability</th>\n",
       "      <th>avg_sentence_length</th>\n",
       "      <th>avg_syllables</th>\n",
       "      <th>char_count</th>\n",
       "      <th>char_count_no_spaces</th>\n",
       "      <th>distinct_word_count</th>\n",
       "      <th>gunning_fog</th>\n",
       "      <th>lexical_density</th>\n",
       "      <th>max_sentence_length</th>\n",
       "      <th>min_sentence_length</th>\n",
       "      <th>sentence_count</th>\n",
       "      <th>word_count</th>\n",
       "    </tr>\n",
       "  </thead>\n",
       "  <tbody>\n",
       "    <tr>\n",
       "      <th>alt_readability</th>\n",
       "      <td>1.000000</td>\n",
       "      <td>-0.327083</td>\n",
       "      <td>-0.935214</td>\n",
       "      <td>-0.211086</td>\n",
       "      <td>-0.258015</td>\n",
       "      <td>-0.230910</td>\n",
       "      <td>-0.780048</td>\n",
       "      <td>0.032476</td>\n",
       "      <td>-0.178314</td>\n",
       "      <td>-0.015159</td>\n",
       "      <td>-0.057921</td>\n",
       "      <td>-0.203073</td>\n",
       "    </tr>\n",
       "    <tr>\n",
       "      <th>avg_sentence_length</th>\n",
       "      <td>-0.327083</td>\n",
       "      <td>1.000000</td>\n",
       "      <td>-0.028005</td>\n",
       "      <td>0.029480</td>\n",
       "      <td>0.026781</td>\n",
       "      <td>0.080953</td>\n",
       "      <td>0.799570</td>\n",
       "      <td>0.161665</td>\n",
       "      <td>0.479243</td>\n",
       "      <td>0.354147</td>\n",
       "      <td>-0.220247</td>\n",
       "      <td>0.025128</td>\n",
       "    </tr>\n",
       "    <tr>\n",
       "      <th>avg_syllables</th>\n",
       "      <td>-0.935214</td>\n",
       "      <td>-0.028005</td>\n",
       "      <td>1.000000</td>\n",
       "      <td>0.212642</td>\n",
       "      <td>0.263265</td>\n",
       "      <td>0.214306</td>\n",
       "      <td>0.526021</td>\n",
       "      <td>-0.095347</td>\n",
       "      <td>0.009393</td>\n",
       "      <td>-0.116337</td>\n",
       "      <td>0.144387</td>\n",
       "      <td>0.205774</td>\n",
       "    </tr>\n",
       "    <tr>\n",
       "      <th>char_count</th>\n",
       "      <td>-0.211086</td>\n",
       "      <td>0.029480</td>\n",
       "      <td>0.212642</td>\n",
       "      <td>1.000000</td>\n",
       "      <td>0.997373</td>\n",
       "      <td>0.933357</td>\n",
       "      <td>0.142320</td>\n",
       "      <td>-0.637275</td>\n",
       "      <td>0.347064</td>\n",
       "      <td>-0.313959</td>\n",
       "      <td>0.940681</td>\n",
       "      <td>0.998031</td>\n",
       "    </tr>\n",
       "    <tr>\n",
       "      <th>char_count_no_spaces</th>\n",
       "      <td>-0.258015</td>\n",
       "      <td>0.026781</td>\n",
       "      <td>0.263265</td>\n",
       "      <td>0.997373</td>\n",
       "      <td>1.000000</td>\n",
       "      <td>0.934634</td>\n",
       "      <td>0.166407</td>\n",
       "      <td>-0.633143</td>\n",
       "      <td>0.340493</td>\n",
       "      <td>-0.314112</td>\n",
       "      <td>0.932880</td>\n",
       "      <td>0.996152</td>\n",
       "    </tr>\n",
       "    <tr>\n",
       "      <th>distinct_word_count</th>\n",
       "      <td>-0.230910</td>\n",
       "      <td>0.080953</td>\n",
       "      <td>0.214306</td>\n",
       "      <td>0.933357</td>\n",
       "      <td>0.934634</td>\n",
       "      <td>1.000000</td>\n",
       "      <td>0.173888</td>\n",
       "      <td>-0.441133</td>\n",
       "      <td>0.357753</td>\n",
       "      <td>-0.309434</td>\n",
       "      <td>0.857649</td>\n",
       "      <td>0.937470</td>\n",
       "    </tr>\n",
       "    <tr>\n",
       "      <th>gunning_fog</th>\n",
       "      <td>-0.780048</td>\n",
       "      <td>0.799570</td>\n",
       "      <td>0.526021</td>\n",
       "      <td>0.142320</td>\n",
       "      <td>0.166407</td>\n",
       "      <td>0.173888</td>\n",
       "      <td>1.000000</td>\n",
       "      <td>0.068018</td>\n",
       "      <td>0.404891</td>\n",
       "      <td>0.214742</td>\n",
       "      <td>-0.097597</td>\n",
       "      <td>0.130574</td>\n",
       "    </tr>\n",
       "    <tr>\n",
       "      <th>lexical_density</th>\n",
       "      <td>0.032476</td>\n",
       "      <td>0.161665</td>\n",
       "      <td>-0.095347</td>\n",
       "      <td>-0.637275</td>\n",
       "      <td>-0.633143</td>\n",
       "      <td>-0.441133</td>\n",
       "      <td>0.068018</td>\n",
       "      <td>1.000000</td>\n",
       "      <td>-0.171617</td>\n",
       "      <td>0.330087</td>\n",
       "      <td>-0.645456</td>\n",
       "      <td>-0.639974</td>\n",
       "    </tr>\n",
       "    <tr>\n",
       "      <th>max_sentence_length</th>\n",
       "      <td>-0.178314</td>\n",
       "      <td>0.479243</td>\n",
       "      <td>0.009393</td>\n",
       "      <td>0.347064</td>\n",
       "      <td>0.340493</td>\n",
       "      <td>0.357753</td>\n",
       "      <td>0.404891</td>\n",
       "      <td>-0.171617</td>\n",
       "      <td>1.000000</td>\n",
       "      <td>-0.115061</td>\n",
       "      <td>0.217539</td>\n",
       "      <td>0.339832</td>\n",
       "    </tr>\n",
       "    <tr>\n",
       "      <th>min_sentence_length</th>\n",
       "      <td>-0.015159</td>\n",
       "      <td>0.354147</td>\n",
       "      <td>-0.116337</td>\n",
       "      <td>-0.313959</td>\n",
       "      <td>-0.314112</td>\n",
       "      <td>-0.309434</td>\n",
       "      <td>0.214742</td>\n",
       "      <td>0.330087</td>\n",
       "      <td>-0.115061</td>\n",
       "      <td>1.000000</td>\n",
       "      <td>-0.358218</td>\n",
       "      <td>-0.315059</td>\n",
       "    </tr>\n",
       "    <tr>\n",
       "      <th>sentence_count</th>\n",
       "      <td>-0.057921</td>\n",
       "      <td>-0.220247</td>\n",
       "      <td>0.144387</td>\n",
       "      <td>0.940681</td>\n",
       "      <td>0.932880</td>\n",
       "      <td>0.857649</td>\n",
       "      <td>-0.097597</td>\n",
       "      <td>-0.645456</td>\n",
       "      <td>0.217539</td>\n",
       "      <td>-0.358218</td>\n",
       "      <td>1.000000</td>\n",
       "      <td>0.938894</td>\n",
       "    </tr>\n",
       "    <tr>\n",
       "      <th>word_count</th>\n",
       "      <td>-0.203073</td>\n",
       "      <td>0.025128</td>\n",
       "      <td>0.205774</td>\n",
       "      <td>0.998031</td>\n",
       "      <td>0.996152</td>\n",
       "      <td>0.937470</td>\n",
       "      <td>0.130574</td>\n",
       "      <td>-0.639974</td>\n",
       "      <td>0.339832</td>\n",
       "      <td>-0.315059</td>\n",
       "      <td>0.938894</td>\n",
       "      <td>1.000000</td>\n",
       "    </tr>\n",
       "  </tbody>\n",
       "</table>\n",
       "</div>"
      ],
      "text/plain": [
       "                      alt_readability  avg_sentence_length  avg_syllables  \\\n",
       "alt_readability              1.000000            -0.327083      -0.935214   \n",
       "avg_sentence_length         -0.327083             1.000000      -0.028005   \n",
       "avg_syllables               -0.935214            -0.028005       1.000000   \n",
       "char_count                  -0.211086             0.029480       0.212642   \n",
       "char_count_no_spaces        -0.258015             0.026781       0.263265   \n",
       "distinct_word_count         -0.230910             0.080953       0.214306   \n",
       "gunning_fog                 -0.780048             0.799570       0.526021   \n",
       "lexical_density              0.032476             0.161665      -0.095347   \n",
       "max_sentence_length         -0.178314             0.479243       0.009393   \n",
       "min_sentence_length         -0.015159             0.354147      -0.116337   \n",
       "sentence_count              -0.057921            -0.220247       0.144387   \n",
       "word_count                  -0.203073             0.025128       0.205774   \n",
       "\n",
       "                      char_count  char_count_no_spaces  distinct_word_count  \\\n",
       "alt_readability        -0.211086             -0.258015            -0.230910   \n",
       "avg_sentence_length     0.029480              0.026781             0.080953   \n",
       "avg_syllables           0.212642              0.263265             0.214306   \n",
       "char_count              1.000000              0.997373             0.933357   \n",
       "char_count_no_spaces    0.997373              1.000000             0.934634   \n",
       "distinct_word_count     0.933357              0.934634             1.000000   \n",
       "gunning_fog             0.142320              0.166407             0.173888   \n",
       "lexical_density        -0.637275             -0.633143            -0.441133   \n",
       "max_sentence_length     0.347064              0.340493             0.357753   \n",
       "min_sentence_length    -0.313959             -0.314112            -0.309434   \n",
       "sentence_count          0.940681              0.932880             0.857649   \n",
       "word_count              0.998031              0.996152             0.937470   \n",
       "\n",
       "                      gunning_fog  lexical_density  max_sentence_length  \\\n",
       "alt_readability         -0.780048         0.032476            -0.178314   \n",
       "avg_sentence_length      0.799570         0.161665             0.479243   \n",
       "avg_syllables            0.526021        -0.095347             0.009393   \n",
       "char_count               0.142320        -0.637275             0.347064   \n",
       "char_count_no_spaces     0.166407        -0.633143             0.340493   \n",
       "distinct_word_count      0.173888        -0.441133             0.357753   \n",
       "gunning_fog              1.000000         0.068018             0.404891   \n",
       "lexical_density          0.068018         1.000000            -0.171617   \n",
       "max_sentence_length      0.404891        -0.171617             1.000000   \n",
       "min_sentence_length      0.214742         0.330087            -0.115061   \n",
       "sentence_count          -0.097597        -0.645456             0.217539   \n",
       "word_count               0.130574        -0.639974             0.339832   \n",
       "\n",
       "                      min_sentence_length  sentence_count  word_count  \n",
       "alt_readability                 -0.015159       -0.057921   -0.203073  \n",
       "avg_sentence_length              0.354147       -0.220247    0.025128  \n",
       "avg_syllables                   -0.116337        0.144387    0.205774  \n",
       "char_count                      -0.313959        0.940681    0.998031  \n",
       "char_count_no_spaces            -0.314112        0.932880    0.996152  \n",
       "distinct_word_count             -0.309434        0.857649    0.937470  \n",
       "gunning_fog                      0.214742       -0.097597    0.130574  \n",
       "lexical_density                  0.330087       -0.645456   -0.639974  \n",
       "max_sentence_length             -0.115061        0.217539    0.339832  \n",
       "min_sentence_length              1.000000       -0.358218   -0.315059  \n",
       "sentence_count                  -0.358218        1.000000    0.938894  \n",
       "word_count                      -0.315059        0.938894    1.000000  "
      ]
     },
     "execution_count": 40,
     "metadata": {},
     "output_type": "execute_result"
    }
   ],
   "source": [
    "p.corr()"
   ]
  },
  {
   "cell_type": "code",
   "execution_count": null,
   "metadata": {},
   "outputs": [],
   "source": []
  }
 ],
 "metadata": {
  "kernelspec": {
   "display_name": "Python 3",
   "language": "python",
   "name": "python3"
  },
  "language_info": {
   "codemirror_mode": {
    "name": "ipython",
    "version": 3
   },
   "file_extension": ".py",
   "mimetype": "text/x-python",
   "name": "python",
   "nbconvert_exporter": "python",
   "pygments_lexer": "ipython3",
   "version": "3.7.3"
  }
 },
 "nbformat": 4,
 "nbformat_minor": 2
}
