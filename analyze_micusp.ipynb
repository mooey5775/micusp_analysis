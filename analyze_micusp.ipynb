{
 "cells": [
  {
   "cell_type": "code",
   "execution_count": 6,
   "metadata": {},
   "outputs": [],
   "source": [
    "import os\n",
    "from tqdm import tqdm\n",
    "from textalyser import Textalyser"
   ]
  },
  {
   "cell_type": "code",
   "execution_count": 7,
   "metadata": {},
   "outputs": [],
   "source": [
    "attrs = ['alt_readability',\n",
    " 'avg_sentence_length',\n",
    " 'avg_syllables',\n",
    " 'char_count',\n",
    " 'char_count_no_spaces',\n",
    " 'distinct_word_count',\n",
    " 'gunning_fog',\n",
    " 'lexical_density',\n",
    " 'longest_sentence',\n",
    " 'max_sentence_length',\n",
    " 'min_sentence_length',\n",
    " 'sentence_count',\n",
    " 'word_count']"
   ]
  },
  {
   "cell_type": "code",
   "execution_count": 9,
   "metadata": {},
   "outputs": [
    {
     "name": "stderr",
     "output_type": "stream",
     "text": [
      "100%|██████████| 828/828 [15:21<00:00,  1.34s/it]\n"
     ]
    }
   ],
   "source": [
    "articles = {}\n",
    "\n",
    "for article in tqdm(os.listdir('micusp_body')):\n",
    "    if '.txt' not in article:\n",
    "        continue\n",
    "    \n",
    "    with open(os.path.join('micusp_body', article)) as f:\n",
    "        t = Textalyser(f.read())\n",
    "    articles[article] = {attr: getattr(t, attr) for attr in attrs}"
   ]
  },
  {
   "cell_type": "code",
   "execution_count": 10,
   "metadata": {},
   "outputs": [],
   "source": [
    "import pickle\n",
    "with open('micusp_all.pickle', 'wb') as f:\n",
    "    pickle.dump(articles, f)"
   ]
  },
  {
   "cell_type": "code",
   "execution_count": 12,
   "metadata": {},
   "outputs": [],
   "source": [
    "import matplotlib.pyplot as plt"
   ]
  },
  {
   "cell_type": "markdown",
   "metadata": {},
   "source": [
    "## plt.hist([articles[i]['word_count'] for i in articles])"
   ]
  },
  {
   "cell_type": "code",
   "execution_count": 16,
   "metadata": {},
   "outputs": [
    {
     "data": {
      "text/plain": [
       "(array([  9.,  22.,  64., 137., 164., 165., 143.,  72.,  33.,  19.]),\n",
       " array([-2.1 ,  3.99, 10.08, 16.17, 22.26, 28.35, 34.44, 40.53, 46.62,\n",
       "        52.71, 58.8 ]),\n",
       " <a list of 10 Patch objects>)"
      ]
     },
     "execution_count": 16,
     "metadata": {},
     "output_type": "execute_result"
    },
    {
     "data": {
      "image/png": "[encoded data removed]",
      "text/plain": [
       "<Figure size 432x288 with 1 Axes>"
      ]
     },
     "metadata": {
      "needs_background": "light"
     },
     "output_type": "display_data"
    }
   ],
   "source": [
    "plt.hist([articles[i]['alt_readability'] for i in articles])"
   ]
  },
  {
   "cell_type": "code",
   "execution_count": 18,
   "metadata": {},
   "outputs": [],
   "source": [
    "import numpy as np"
   ]
  },
  {
   "cell_type": "code",
   "execution_count": 22,
   "metadata": {},
   "outputs": [
    {
     "data": {
      "text/plain": [
       "315"
      ]
     },
     "execution_count": 22,
     "metadata": {},
     "output_type": "execute_result"
    }
   ],
   "source": [
    "np.argmin([articles[i]['alt_readability'] for i in articles])"
   ]
  },
  {
   "cell_type": "code",
   "execution_count": 23,
   "metadata": {},
   "outputs": [
    {
     "data": {
      "text/plain": [
       "'BIO.G0.32.1.txt'"
      ]
     },
     "execution_count": 23,
     "metadata": {},
     "output_type": "execute_result"
    }
   ],
   "source": [
    "[i for i in articles][315]"
   ]
  },
  {
   "cell_type": "code",
   "execution_count": 26,
   "metadata": {},
   "outputs": [
    {
     "data": {
      "text/plain": [
       "{'alt_readability': -2.1,\n",
       " 'avg_sentence_length': 21.21,\n",
       " 'avg_syllables': 2.21,\n",
       " 'char_count': 8278,\n",
       " 'char_count_no_spaces': 5667,\n",
       " 'distinct_word_count': 503,\n",
       " 'gunning_fog': 14.4,\n",
       " 'lexical_density': 0.624,\n",
       " 'longest_sentence': ' the second observation that supports the dependence hypothesis is that among the ten largest reefs in the mesoamerican coral reef system extending from mexico to belize mumby s team observed that the reefs that were the largest and had the highest levels of biodiversity and productivity were those with the strongest links to coastal mangrove forests',\n",
       " 'max_sentence_length': 56,\n",
       " 'min_sentence_length': 1,\n",
       " 'sentence_count': 62,\n",
       " 'word_count': 806}"
      ]
     },
     "execution_count": 26,
     "metadata": {},
     "output_type": "execute_result"
    }
   ],
   "source": [
    "articles['BIO.G0.32.1.txt']"
   ]
  },
  {
   "cell_type": "code",
   "execution_count": null,
   "metadata": {},
   "outputs": [],
   "source": []
  }
 ],
 "metadata": {
  "kernelspec": {
   "display_name": "Python 3",
   "language": "python",
   "name": "python3"
  },
  "language_info": {
   "codemirror_mode": {
    "name": "ipython",
    "version": 3
   },
   "file_extension": ".py",
   "mimetype": "text/x-python",
   "name": "python",
   "nbconvert_exporter": "python",
   "pygments_lexer": "ipython3",
   "version": "3.6.7"
  }
 },
 "nbformat": 4,
 "nbformat_minor": 2
}
