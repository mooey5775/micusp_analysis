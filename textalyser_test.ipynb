{
 "cells": [
  {
   "cell_type": "code",
   "execution_count": 144,
   "metadata": {},
   "outputs": [],
   "source": [
    "import requests\n",
    "from bs4 import BeautifulSoup\n",
    "import re"
   ]
  },
  {
   "cell_type": "code",
   "execution_count": 41,
   "metadata": {},
   "outputs": [],
   "source": [
    "url = \"http://textalyser.net/index.php?lang=en#analysis\"\n",
    "params = {\n",
    "    'text_main': 'this is a test',\n",
    "    'min_char': 3,\n",
    "    'words_toanalyze': 10,\n",
    "    'count_numbers': 1,\n",
    "    'is_log': 1,\n",
    "    'stoplist_lang': 1\n",
    "}\n",
    "headers = {\n",
    "    'Content-Type': 'multipart/form-data'\n",
    "}"
   ]
  },
  {
   "cell_type": "code",
   "execution_count": 62,
   "metadata": {},
   "outputs": [],
   "source": [
    "r = requests.post(url=url, data=params, headers=headers)"
   ]
  },
  {
   "cell_type": "code",
   "execution_count": 37,
   "metadata": {},
   "outputs": [],
   "source": [
    "soup = BeautifulSoup(r.text, 'html.parser')"
   ]
  },
  {
   "cell_type": "code",
   "execution_count": 188,
   "metadata": {},
   "outputs": [],
   "source": [
    "params['text_main'] = \"\tWelcome to the online text analysis tool, the detailed statistics of your text, perfect for translators (quoting), for webmasters (ranking) or for normal users, to know the subject of a text. Now with new features as the anlysis of words groups, finding out the keyword density, analyse the prominence of word or expressions. Webmasters can analyse the links on their pages. More instructions are about to be written, please send us your feedback !\""
   ]
  },
  {
   "cell_type": "code",
   "execution_count": 186,
   "metadata": {},
   "outputs": [],
   "source": [
    "params['text_main'] = open('research.txt').read()"
   ]
  },
  {
   "cell_type": "code",
   "execution_count": 189,
   "metadata": {},
   "outputs": [],
   "source": [
    "r = requests.post(url=url, data=params)"
   ]
  },
  {
   "cell_type": "code",
   "execution_count": 190,
   "metadata": {},
   "outputs": [
    {
     "data": {
      "text/plain": [
       "200"
      ]
     },
     "execution_count": 190,
     "metadata": {},
     "output_type": "execute_result"
    }
   ],
   "source": [
    "r.status_code"
   ]
  },
  {
   "cell_type": "code",
   "execution_count": 177,
   "metadata": {},
   "outputs": [],
   "source": [
    "soup = BeautifulSoup(r.text, 'html.parser')"
   ]
  },
  {
   "cell_type": "code",
   "execution_count": 178,
   "metadata": {},
   "outputs": [
    {
     "data": {
      "text/plain": [
       "[<h3></h3>,\n",
       " <h3>Frequency and top words : </h3>,\n",
       " <h3>Word Length : </h3>,\n",
       " <h3>Syllable count : </h3>,\n",
       " <h3>2 word phrases frequency : </h3>,\n",
       " <h3>Unfiltered wordcount :</h3>]"
      ]
     },
     "execution_count": 178,
     "metadata": {},
     "output_type": "execute_result"
    }
   ],
   "source": [
    "soup.find_all('h3')"
   ]
  },
  {
   "cell_type": "code",
   "execution_count": 197,
   "metadata": {},
   "outputs": [
    {
     "data": {
      "text/plain": [
       "<table border=\"1\" cellpadding=\"10\" cellspacing=\"0\">\n",
       "<tr><td>Total word count : </td><td>42</td></tr>\n",
       "<tr><td></td><td></td></tr>\n",
       "<tr><td>Number of different words : </td><td>37</td></tr>\n",
       "<tr><td>Complexity factor (Lexical Density) : </td><td>88.1%</td></tr>\n",
       "<tr><td>Readability  (Gunning-Fog Index) : <span class=\"quote\">(6-easy 20-hard)</span></td><td>9.5</td></tr>\n",
       "<tr><td>Total number of characters : </td><td>449</td></tr>\n",
       "<tr><td>Number of characters without spaces : </td><td>278</td></tr>\n",
       "<tr><td>Average Syllables per Word : </td><td>1.71</td></tr>\n",
       "<tr><td>Sentence count : </td><td>4</td></tr>\n",
       "<tr><td>Average sentence length (words) : </td><td>18.25</td></tr>\n",
       "<tr><td>Max sentence length  (words) : </td><td>31</td></tr>\n",
       "<tr><td><span class=\"quote\">(\twelcome to the online text analysis tool the detailed statistics of your text perfect for translators quoting for webmasters ranking or for normal users to know the subject of a text)</span></td><td></td></tr>\n",
       "<tr><td>Min sentence length  (words) : </td><td>8</td></tr>\n",
       "<tr><td><span class=\"quote\">( webmasters can analyse the links on their pages)</span></td><td></td></tr>\n",
       "<tr><td>Readability  (Alternative) beta : <span class=\"quote\">(100-easy 20-hard, optimal 60-70)</span></td><td>43.8</td></tr>\n",
       "</table>"
      ]
     },
     "execution_count": 197,
     "metadata": {},
     "output_type": "execute_result"
    }
   ],
   "source": [
    "soup.find_all('h3')[0].find_next('table')"
   ]
  },
  {
   "cell_type": "code",
   "execution_count": 179,
   "metadata": {},
   "outputs": [
    {
     "data": {
      "text/plain": [
       "[<h3>2 word phrases frequency : </h3>]"
      ]
     },
     "execution_count": 179,
     "metadata": {},
     "output_type": "execute_result"
    }
   ],
   "source": [
    "[i.parent for i in soup.find_all(text=re.compile(r'\\d word phrases frequency : '))]"
   ]
  },
  {
   "cell_type": "code",
   "execution_count": 236,
   "metadata": {},
   "outputs": [
    {
     "data": {
      "text/plain": [
       "'43.8'"
      ]
     },
     "execution_count": 236,
     "metadata": {},
     "output_type": "execute_result"
    }
   ],
   "source": [
    "soup.find(text=\"Readability  (Alternative) beta : \").parent.find_next('td').text"
   ]
  },
  {
   "cell_type": "code",
   "execution_count": 235,
   "metadata": {},
   "outputs": [
    {
     "ename": "SyntaxError",
     "evalue": "invalid syntax (<ipython-input-235-1b1214beaa44>, line 1)",
     "output_type": "error",
     "traceback": [
      "\u001b[0;36m  File \u001b[0;32m\"<ipython-input-235-1b1214beaa44>\"\u001b[0;36m, line \u001b[0;32m1\u001b[0m\n\u001b[0;31m    soup.find(text= : \").parent.parent.find_next('tr').text[2:-1]\u001b[0m\n\u001b[0m                    ^\u001b[0m\n\u001b[0;31mSyntaxError\u001b[0m\u001b[0;31m:\u001b[0m invalid syntax\n"
     ]
    }
   ],
   "source": [
    "soup.find(text=\"\": \").parent.parent.find_next('tr').text[2:-1]"
   ]
  },
  {
   "cell_type": "code",
   "execution_count": 181,
   "metadata": {},
   "outputs": [
    {
     "data": {
      "text/plain": [
       "'37'"
      ]
     },
     "execution_count": 181,
     "metadata": {},
     "output_type": "execute_result"
    }
   ],
   "source": [
    "soup.find(text=\"Number of different words : \").parent.find_next('td').text"
   ]
  },
  {
   "cell_type": "code",
   "execution_count": 182,
   "metadata": {},
   "outputs": [
    {
     "data": {
      "text/plain": [
       "<table border=\"1\" cellpadding=\"10\" cellspacing=\"0\">\n",
       "<tr> <td><b>Word</b></td><td><b>Occurrences</b></td><td><b>Frequency</b></td><td><b>Rank</b></td></tr>\n",
       "<td>text</td><td>3</td><td>7.1%</td><td>1</td>\n",
       "</table>"
      ]
     },
     "execution_count": 182,
     "metadata": {},
     "output_type": "execute_result"
    }
   ],
   "source": [
    "soup.find(text=\"Frequency and top words : \").parent.find_next('table')"
   ]
  },
  {
   "cell_type": "code",
   "execution_count": 183,
   "metadata": {},
   "outputs": [
    {
     "data": {
      "text/plain": [
       "<table border=\"1\" cellpadding=\"10\" cellspacing=\"0\">\n",
       "<tr> <td><b>Word Length (characters)</b></td><td><b>Word count </b></td><td><b>Frequency</b></td></tr>\n",
       "<tr>\n",
       "<td>3</td><td>15</td><td>20.5%</td>\n",
       "</tr>\n",
       "<tr>\n",
       "<td>2</td><td>13</td><td>17.8%</td>\n",
       "</tr>\n",
       "<tr>\n",
       "<td>7</td><td>12</td><td>16.4%</td>\n",
       "</tr>\n",
       "<tr>\n",
       "<td>4</td><td>11</td><td>15.1%</td>\n",
       "</tr>\n",
       "<tr>\n",
       "<td>5</td><td>6</td><td>8.2%</td>\n",
       "</tr>\n",
       "<tr>\n",
       "<td>10</td><td>4</td><td>5.5%</td>\n",
       "</tr>\n",
       "<tr>\n",
       "<td>8</td><td>4</td><td>5.5%</td>\n",
       "</tr>\n",
       "<tr>\n",
       "<td>6</td><td>4</td><td>5.5%</td>\n",
       "</tr>\n",
       "<tr>\n",
       "<td>11</td><td>2</td><td>2.7%</td>\n",
       "</tr>\n",
       "<tr>\n",
       "<td>12</td><td>1</td><td>1.4%</td>\n",
       "</tr>\n",
       "<tr>\n",
       "<td>1</td><td>1</td><td>1.4%</td>\n",
       "</tr>\n",
       "</table>"
      ]
     },
     "execution_count": 183,
     "metadata": {},
     "output_type": "execute_result"
    }
   ],
   "source": [
    "soup.find(text=\"Word Length : \").parent.find_next('table')"
   ]
  },
  {
   "cell_type": "code",
   "execution_count": 184,
   "metadata": {},
   "outputs": [
    {
     "data": {
      "text/plain": [
       "<table border=\"1\" cellpadding=\"10\" cellspacing=\"0\">\n",
       "<tr> <td><b>Syllable count</b></td><td><b>Word count </b></td><td><b>Frequency</b></td></tr>\n",
       "<tr>\n",
       "<td>1</td><td>41</td><td>56.9%</td>\n",
       "</tr>\n",
       "<tr>\n",
       "<td>2</td><td>15</td><td>20.8%</td>\n",
       "</tr>\n",
       "<tr>\n",
       "<td>3</td><td>12</td><td>16.7%</td>\n",
       "</tr>\n",
       "<tr>\n",
       "<td>4</td><td>4</td><td>5.6%</td>\n",
       "</tr>\n",
       "</table>"
      ]
     },
     "execution_count": 184,
     "metadata": {},
     "output_type": "execute_result"
    }
   ],
   "source": [
    "soup.find(text=\"Syllable count : \").parent.find_next('table')"
   ]
  },
  {
   "cell_type": "code",
   "execution_count": 185,
   "metadata": {},
   "outputs": [
    {
     "data": {
      "text/plain": [
       "<table border=\"1\" cellpadding=\"10\" cellspacing=\"0\">\n",
       "<tr> <td><b>Expression</b></td><td><b>Expression count </b></td><td><b>Frequency</b></td><td><b>Prominence</b></td></tr>\n",
       "<tr>\n",
       "<td>the</td><td>7</td><td>9.6%</td><td>56.2</td>\n",
       "</tr>\n",
       "<tr>\n",
       "<td>of</td><td>4</td><td>5.5%</td><td>55.8</td>\n",
       "</tr>\n",
       "<tr>\n",
       "<td>to</td><td>3</td><td>4.1%</td><td>57.5</td>\n",
       "</tr>\n",
       "<tr>\n",
       "<td>for</td><td>3</td><td>4.1%</td><td>74.9</td>\n",
       "</tr>\n",
       "<tr>\n",
       "<td>text</td><td>3</td><td>4.1%</td><td>77.6</td>\n",
       "</tr>\n",
       "<tr>\n",
       "<td>analyse</td><td>2</td><td>2.7%</td><td>29.5</td>\n",
       "</tr>\n",
       "<tr>\n",
       "<td>your</td><td>2</td><td>2.7%</td><td>42.5</td>\n",
       "</tr>\n",
       "<tr>\n",
       "<td>or</td><td>2</td><td>2.7%</td><td>50</td>\n",
       "</tr>\n",
       "<tr>\n",
       "<td>webmasters</td><td>2</td><td>2.7%</td><td>50</td>\n",
       "</tr>\n",
       "</table>"
      ]
     },
     "execution_count": 185,
     "metadata": {},
     "output_type": "execute_result"
    }
   ],
   "source": [
    "soup.find(text=\"Unfiltered wordcount :\").parent.find_next('table')"
   ]
  },
  {
   "cell_type": "code",
   "execution_count": null,
   "metadata": {},
   "outputs": [],
   "source": []
  }
 ],
 "metadata": {
  "kernelspec": {
   "display_name": "Python 3",
   "language": "python",
   "name": "python3"
  },
  "language_info": {
   "codemirror_mode": {
    "name": "ipython",
    "version": 3
   },
   "file_extension": ".py",
   "mimetype": "text/x-python",
   "name": "python",
   "nbconvert_exporter": "python",
   "pygments_lexer": "ipython3",
   "version": "3.6.7"
  }
 },
 "nbformat": 4,
 "nbformat_minor": 2
}
