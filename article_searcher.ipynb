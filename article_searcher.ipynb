{
 "cells": [
  {
   "cell_type": "code",
   "execution_count": 3,
   "metadata": {},
   "outputs": [],
   "source": [
    "import os\n",
    "\n",
    "response = [\"BIO.G0.31.1\", \"BIO.G1.08.2\", \"ECO.G2.07.2\", \"EDU.G0.02.1\", \"EDU.G0.04.1\", \"EDU.G0.06.2\", \"EDU.G0.14.1\", \"EDU.G0.16.1\", \"EDU.G0.20.1\", \"ENG.G0.38.1\", \"ENG.G0.38.2\", \"CLS.G0.04.1\", \"HIS.G2.03.1\", \"IOE.G1.02.1\", \"IOE.G1.10.1\", \"IOE.G2.02.3\", \"LIN.G0.06.2\", \"LIN.G0.14.1\", \"PHI.G0.06.5\", \"PSY.G0.11.1\", \"PSY.G0.19.1\", \"PSY.G0.19.2\", \"PSY.G0.33.1\", \"SOC.G1.08.1\"]\n",
    "\n",
    "research = [\"BIO.G0.02.6\", \"BIO.G0.03.1\", \"BIO.G0.03.2\", \"BIO.G0.03.3\", \"BIO.G0.04.2\", \"BIO.G0.04.3\", \"BIO.G0.07.2\", \"BIO.G0.07.3\", \"BIO.G0.08.1\", \"BIO.G0.10.1\", \"BIO.G0.10.2\", \"BIO.G0.11.2\", \"BIO.G0.12.1\", \"BIO.G0.14.1\", \"BIO.G0.17.1\", \"BIO.G0.21.1\", \"BIO.G0.22.1\", \"BIO.G0.23.1\", \"BIO.G0.27.1\", \"BIO.G0.28.1\", \"BIO.G1.02.1\", \"BIO.G1.05.1\", \"BIO.G2.01.1\", \"BIO.G2.03.1\", \"BIO.G2.04.1\", \"BIO.G3.01.1\", \"CEE.G0.01.2\", \"CEE.G0.01.3\", \"CEE.G0.03.1\", \"CEE.G0.04.1\", \"CEE.G0.05.1\", \"CEE.G0.06.1\", \"CEE.G1.02.1\", \"CEE.G3.01.1\", \"CEE.G3.02.1\", \"CEE.G3.03.1\", \"ECO.G0.06.1\", \"ECO.G0.08.1\", \"ECO.G1.01.1\", \"ECO.G1.02.1\", \"ECO.G1.03.1\", \"ECO.G2.01.1\", \"ECO.G2.04.1\", \"ECO.G2.05.1\", \"ECO.G2.08.1\", \"ECO.G3.01.1\", \"ECO.G3.02.1\", \"EDU.G1.03.1\", \"EDU.G1.05.1\", \"IOE.G0.02.1\", \"IOE.G0.05.1\", \"IOE.G0.10.1\", \"IOE.G1.01.1\", \"IOE.G1.02.2\", \"IOE.G1.02.4\", \"IOE.G1.07.1\", \"IOE.G1.08.1\", \"IOE.G2.01.1\", \"IOE.G2.03.1\", \"IOE.G3.01.1\", \"LIN.G0.01.1\", \"LIN.G0.03.1\", \"LIN.G0.04.1\", \"LIN.G0.07.1\", \"LIN.G0.08.1\", \"LIN.G0.10.2\", \"LIN.G1.01.1\", \"LIN.G1.01.2\", \"LIN.G1.01.3\", \"LIN.G1.01.4\", \"LIN.G1.01.5\", \"LIN.G1.05.1\", \"LIN.G1.06.1\", \"LIN.G2.03.1\", \"LIN.G3.02.1\", \"MEC.G0.02.1\", \"MEC.G0.04.1\", \"MEC.G0.05.1\", \"MEC.G0.07.1\", \"MEC.G0.08.1\", \"MEC.G0.08.2\", \"MEC.G0.08.3\", \"MEC.G0.08.5\", \"MEC.G0.08.6\", \"MEC.G0.10.1\", \"MEC.G0.11.2\", \"MEC.G1.01.1\", \"MEC.G1.05.1\", \"MEC.G1.06.1\", \"MEC.G1.07.1\", \"MEC.G2.01.1\", \"MEC.G2.03.1\", \"MEC.G2.04.1\", \"MEC.G3.01.1\", \"NRE.G0.01.1\", \"NRE.G0.03.2\", \"NRE.G1.18.1\", \"NRE.G1.20.1\", \"NRE.G1.21.1\", \"NRE.G1.27.1\", \"NRE.G1.27.2\", \"NRE.G1.27.4\", \"NRE.G2.07.1\", \"NRE.G3.01.1\", \"NUR.G0.13.1\", \"NUR.G0.15.2\", \"NUR.G3.05.1\", \"PHI.G1.02.2\", \"PHY.G0.01.1\", \"PHY.G0.02.1\", \"PHY.G0.03.1\", \"PHY.G0.04.1\", \"PHY.G0.04.2\", \"PHY.G2.05.1\", \"PHY.G2.06.1\", \"POL.G0.01.2\", \"POL.G0.13.1\", \"POL.G0.30.1\", \"PSY.G0.04.1\", \"PSY.G0.08.1\", \"PSY.G0.16.1\", \"PSY.G0.18.1\", \"PSY.G0.21.1\", \"PSY.G0.27.1\", \"PSY.G0.28.1\", \"PSY.G0.29.1\", \"PSY.G0.30.1\", \"PSY.G0.32.2\", \"PSY.G0.39.1\", \"PSY.G2.01.1\", \"PSY.G2.13.1\", \"PSY.G3.06.1\", \"SOC.G0.02.2\", \"SOC.G0.03.1\", \"SOC.G0.11.1\", \"SOC.G1.10.5\", \"SOC.G3.04.1\", \"SOC.G3.05.2\", \"SOC.G3.07.1\", \"SOC.G3.08.1\"]"
   ]
  },
  {
   "cell_type": "code",
   "execution_count": 4,
   "metadata": {},
   "outputs": [],
   "source": [
    "def search_for(text):\n",
    "    for article in response:\n",
    "        with open(os.path.join('micusp_body', article + '.txt')) as f:\n",
    "            if text in f.read():\n",
    "                return article\n",
    "    \n",
    "    for article in research:\n",
    "        with open(os.path.join('micusp_body', article + '.txt')) as f:\n",
    "            if text in f.read():\n",
    "                return article\n",
    "    \n",
    "    return -1"
   ]
  },
  {
   "cell_type": "code",
   "execution_count": 6,
   "metadata": {},
   "outputs": [
    {
     "data": {
      "text/plain": [
       "'EDU.G0.02.1'"
      ]
     },
     "execution_count": 6,
     "metadata": {},
     "output_type": "execute_result"
    }
   ],
   "source": [
    "search_for(\"I really like how this lesson aligns their assessments directly with the objectives that they have laid out\")"
   ]
  },
  {
   "cell_type": "code",
   "execution_count": 7,
   "metadata": {},
   "outputs": [
    {
     "data": {
      "text/plain": [
       "'BIO.G0.03.1'"
      ]
     },
     "execution_count": 7,
     "metadata": {},
     "output_type": "execute_result"
    }
   ],
   "source": [
    "search_for(\"Physiological differences, particularly in the root system, suggest that dicots are better\")"
   ]
  },
  {
   "cell_type": "code",
   "execution_count": 8,
   "metadata": {},
   "outputs": [
    {
     "data": {
      "text/plain": [
       "'BIO.G1.08.2'"
      ]
     },
     "execution_count": 8,
     "metadata": {},
     "output_type": "execute_result"
    }
   ],
   "source": [
    "search_for(\"I think the paper is fairly convincing in demonstrating the effect of Hb and Kr. However, it has some weak points\")"
   ]
  },
  {
   "cell_type": "code",
   "execution_count": 10,
   "metadata": {},
   "outputs": [
    {
     "data": {
      "text/plain": [
       "'BIO.G0.27.1'"
      ]
     },
     "execution_count": 10,
     "metadata": {},
     "output_type": "execute_result"
    }
   ],
   "source": [
    "search_for(\"One important area requiring further investigation is the influence of post-fire succession on the suitability of habitat for the predators of small mammals\")"
   ]
  },
  {
   "cell_type": "code",
   "execution_count": 11,
   "metadata": {},
   "outputs": [
    {
     "data": {
      "text/plain": [
       "'BIO.G1.08.2'"
      ]
     },
     "execution_count": 11,
     "metadata": {},
     "output_type": "execute_result"
    }
   ],
   "source": [
    "search_for(\"Furthermore, they also examined the effect of Hb on first-born glial cell fates\")"
   ]
  },
  {
   "cell_type": "code",
   "execution_count": 12,
   "metadata": {},
   "outputs": [
    {
     "data": {
      "text/plain": [
       "'BIO.G0.02.6'"
      ]
     },
     "execution_count": 12,
     "metadata": {},
     "output_type": "execute_result"
    }
   ],
   "source": [
    "search_for(\"The crosses and scoring were done over a series of seven weeks and all flies for all crosses were grown at 24° C. All flies were anesthetized using CO2 and inspected under a dissecting or stereoscopic microscope while on CO2 pads\")"
   ]
  },
  {
   "cell_type": "code",
   "execution_count": null,
   "metadata": {},
   "outputs": [],
   "source": []
  }
 ],
 "metadata": {
  "kernelspec": {
   "display_name": "Python 3",
   "language": "python",
   "name": "python3"
  },
  "language_info": {
   "codemirror_mode": {
    "name": "ipython",
    "version": 3
   },
   "file_extension": ".py",
   "mimetype": "text/x-python",
   "name": "python",
   "nbconvert_exporter": "python",
   "pygments_lexer": "ipython3",
   "version": "3.7.3"
  }
 },
 "nbformat": 4,
 "nbformat_minor": 2
}
