{
 "cells": [
  {
   "cell_type": "code",
   "execution_count": 42,
   "metadata": {},
   "outputs": [],
   "source": [
    "from textalyser import Textalyser\n",
    "from tqdm import tqdm\n",
    "\n",
    "import os\n",
    "import numpy as np\n",
    "import matplotlib.pyplot as plt"
   ]
  },
  {
   "cell_type": "code",
   "execution_count": 2,
   "metadata": {},
   "outputs": [],
   "source": [
    "response = [\"BIO.G0.31.1\", \"BIO.G1.08.2\", \"ECO.G2.07.2\", \"EDU.G0.02.1\", \"EDU.G0.04.1\", \"EDU.G0.06.2\", \"EDU.G0.14.1\", \"EDU.G0.16.1\", \"EDU.G0.20.1\", \"ENG.G0.38.1\", \"ENG.G0.38.2\", \"CLS.G0.04.1\", \"HIS.G2.03.1\", \"IOE.G1.02.1\", \"IOE.G1.10.1\", \"IOE.G2.02.3\", \"LIN.G0.06.2\", \"LIN.G0.14.1\", \"PHI.G0.06.5\", \"PSY.G0.11.1\", \"PSY.G0.19.1\", \"PSY.G0.19.2\", \"PSY.G0.33.1\", \"SOC.G1.08.1\"]\n",
    "\n",
    "research = [\"BIO.G0.02.6\", \"BIO.G0.03.1\", \"BIO.G0.03.2\", \"BIO.G0.03.3\", \"BIO.G0.04.2\", \"BIO.G0.04.3\", \"BIO.G0.07.2\", \"BIO.G0.07.3\", \"BIO.G0.08.1\", \"BIO.G0.10.1\", \"BIO.G0.10.2\", \"BIO.G0.11.2\", \"BIO.G0.12.1\", \"BIO.G0.14.1\", \"BIO.G0.17.1\", \"BIO.G0.21.1\", \"BIO.G0.22.1\", \"BIO.G0.23.1\", \"BIO.G0.27.1\", \"BIO.G0.28.1\", \"BIO.G1.02.1\", \"BIO.G1.05.1\", \"BIO.G2.01.1\", \"BIO.G2.03.1\", \"BIO.G2.04.1\", \"BIO.G3.01.1\", \"CEE.G0.01.2\", \"CEE.G0.01.3\", \"CEE.G0.03.1\", \"CEE.G0.04.1\", \"CEE.G0.05.1\", \"CEE.G0.06.1\", \"CEE.G1.02.1\", \"CEE.G3.01.1\", \"CEE.G3.02.1\", \"CEE.G3.03.1\", \"ECO.G0.06.1\", \"ECO.G0.08.1\", \"ECO.G1.01.1\", \"ECO.G1.02.1\", \"ECO.G1.03.1\", \"ECO.G2.01.1\", \"ECO.G2.04.1\", \"ECO.G2.05.1\", \"ECO.G2.08.1\", \"ECO.G3.01.1\", \"ECO.G3.02.1\", \"EDU.G1.03.1\", \"EDU.G1.05.1\", \"IOE.G0.02.1\", \"IOE.G0.05.1\", \"IOE.G0.10.1\", \"IOE.G1.01.1\", \"IOE.G1.02.2\", \"IOE.G1.02.4\", \"IOE.G1.07.1\", \"IOE.G1.08.1\", \"IOE.G2.01.1\", \"IOE.G2.03.1\", \"IOE.G3.01.1\", \"LIN.G0.01.1\", \"LIN.G0.03.1\", \"LIN.G0.04.1\", \"LIN.G0.07.1\", \"LIN.G0.08.1\", \"LIN.G0.10.2\", \"LIN.G1.01.1\", \"LIN.G1.01.2\", \"LIN.G1.01.3\", \"LIN.G1.01.4\", \"LIN.G1.01.5\", \"LIN.G1.05.1\", \"LIN.G1.06.1\", \"LIN.G2.03.1\", \"LIN.G3.02.1\", \"MEC.G0.02.1\", \"MEC.G0.04.1\", \"MEC.G0.05.1\", \"MEC.G0.07.1\", \"MEC.G0.08.1\", \"MEC.G0.08.2\", \"MEC.G0.08.3\", \"MEC.G0.08.5\", \"MEC.G0.08.6\", \"MEC.G0.10.1\", \"MEC.G0.11.2\", \"MEC.G1.01.1\", \"MEC.G1.05.1\", \"MEC.G1.06.1\", \"MEC.G1.07.1\", \"MEC.G2.01.1\", \"MEC.G2.03.1\", \"MEC.G2.04.1\", \"MEC.G3.01.1\", \"NRE.G0.01.1\", \"NRE.G0.03.2\", \"NRE.G1.18.1\", \"NRE.G1.20.1\", \"NRE.G1.21.1\", \"NRE.G1.27.1\", \"NRE.G1.27.2\", \"NRE.G1.27.4\", \"NRE.G2.07.1\", \"NRE.G3.01.1\", \"NUR.G0.13.1\", \"NUR.G0.15.2\", \"NUR.G3.05.1\", \"PHI.G1.02.2\", \"PHY.G0.01.1\", \"PHY.G0.02.1\", \"PHY.G0.03.1\", \"PHY.G0.04.1\", \"PHY.G0.04.2\", \"PHY.G2.05.1\", \"PHY.G2.06.1\", \"POL.G0.01.2\", \"POL.G0.13.1\", \"POL.G0.30.1\", \"PSY.G0.04.1\", \"PSY.G0.08.1\", \"PSY.G0.16.1\", \"PSY.G0.18.1\", \"PSY.G0.21.1\", \"PSY.G0.27.1\", \"PSY.G0.28.1\", \"PSY.G0.29.1\", \"PSY.G0.30.1\", \"PSY.G0.32.2\", \"PSY.G0.39.1\", \"PSY.G2.01.1\", \"PSY.G2.13.1\", \"PSY.G3.06.1\", \"SOC.G0.02.2\", \"SOC.G0.03.1\", \"SOC.G0.11.1\", \"SOC.G1.10.5\", \"SOC.G3.04.1\", \"SOC.G3.05.2\", \"SOC.G3.07.1\", \"SOC.G3.08.1\"]"
   ]
  },
  {
   "cell_type": "code",
   "execution_count": 27,
   "metadata": {},
   "outputs": [],
   "source": [
    "response_lex = []\n",
    "response_gf = []\n",
    "response_syl = []\n",
    "response_alt = []\n",
    "response_wc = []\n",
    "\n",
    "research_lex = []\n",
    "research_gf = []\n",
    "research_syl = []\n",
    "research_alt = []\n",
    "research_wc = []"
   ]
  },
  {
   "cell_type": "code",
   "execution_count": 28,
   "metadata": {},
   "outputs": [
    {
     "name": "stderr",
     "output_type": "stream",
     "text": [
      "100%|██████████| 24/24 [00:13<00:00,  2.31it/s]\n"
     ]
    }
   ],
   "source": [
    "for article in tqdm(response):\n",
    "    with open(os.path.join('micusp_body', article + '.txt')) as f:\n",
    "        t = Textalyser(f.read())\n",
    "    \n",
    "    response_lex.append(t.lexical_density)\n",
    "    response_gf.append(t.gunning_fog)\n",
    "    response_syl.append(t.avg_syllables)\n",
    "    response_alt.append(t.alt_readability)\n",
    "    response_wc.append(t.word_count)"
   ]
  },
  {
   "cell_type": "code",
   "execution_count": 29,
   "metadata": {},
   "outputs": [
    {
     "name": "stderr",
     "output_type": "stream",
     "text": [
      "100%|██████████| 140/140 [03:06<00:00,  1.66s/it]\n"
     ]
    }
   ],
   "source": [
    "for article in tqdm(research):\n",
    "    with open(os.path.join('micusp_body', article + '.txt')) as f:\n",
    "        t = Textalyser(f.read())\n",
    "    \n",
    "    research_lex.append(t.lexical_density)\n",
    "    research_gf.append(t.gunning_fog)\n",
    "    research_syl.append(t.avg_syllables)\n",
    "    research_alt.append(t.alt_readability)\n",
    "    research_wc.append(t.word_count)"
   ]
  },
  {
   "cell_type": "code",
   "execution_count": 30,
   "metadata": {},
   "outputs": [
    {
     "data": {
      "text/plain": [
       "0.6240416666666669"
      ]
     },
     "execution_count": 30,
     "metadata": {},
     "output_type": "execute_result"
    }
   ],
   "source": [
    "sum(response_lex) / len(response_lex)"
   ]
  },
  {
   "cell_type": "code",
   "execution_count": 31,
   "metadata": {},
   "outputs": [
    {
     "data": {
      "text/plain": [
       "11.366666666666669"
      ]
     },
     "execution_count": 31,
     "metadata": {},
     "output_type": "execute_result"
    }
   ],
   "source": [
    "sum(response_gf) / len(response_gf)"
   ]
  },
  {
   "cell_type": "code",
   "execution_count": 36,
   "metadata": {},
   "outputs": [
    {
     "data": {
      "text/plain": [
       "1.7470833333333335"
      ]
     },
     "execution_count": 36,
     "metadata": {},
     "output_type": "execute_result"
    }
   ],
   "source": [
    "sum(response_syl) / len(response_syl)"
   ]
  },
  {
   "cell_type": "code",
   "execution_count": 37,
   "metadata": {},
   "outputs": [
    {
     "data": {
      "text/plain": [
       "37.40833333333333"
      ]
     },
     "execution_count": 37,
     "metadata": {},
     "output_type": "execute_result"
    }
   ],
   "source": [
    "sum(response_alt) / len(response_alt)"
   ]
  },
  {
   "cell_type": "code",
   "execution_count": 39,
   "metadata": {},
   "outputs": [
    {
     "data": {
      "text/plain": [
       "0.600536502371623"
      ]
     },
     "execution_count": 39,
     "metadata": {},
     "output_type": "execute_result"
    }
   ],
   "source": [
    "np.average(response_lex, weights=response_wc)"
   ]
  },
  {
   "cell_type": "code",
   "execution_count": 44,
   "metadata": {},
   "outputs": [
    {
     "data": {
      "text/plain": [
       "11.517931532274694"
      ]
     },
     "execution_count": 44,
     "metadata": {},
     "output_type": "execute_result"
    }
   ],
   "source": [
    "np.average(response_gf, weights=response_wc)"
   ]
  },
  {
   "cell_type": "code",
   "execution_count": 45,
   "metadata": {},
   "outputs": [
    {
     "data": {
      "text/plain": [
       "1.7496751907609815"
      ]
     },
     "execution_count": 45,
     "metadata": {},
     "output_type": "execute_result"
    }
   ],
   "source": [
    "np.average(response_syl, weights=response_wc)"
   ]
  },
  {
   "cell_type": "code",
   "execution_count": 46,
   "metadata": {},
   "outputs": [
    {
     "data": {
      "text/plain": [
       "36.91047638688389"
      ]
     },
     "execution_count": 46,
     "metadata": {},
     "output_type": "execute_result"
    }
   ],
   "source": [
    "np.average(response_alt, weights=response_wc)"
   ]
  },
  {
   "cell_type": "code",
   "execution_count": 54,
   "metadata": {},
   "outputs": [
    {
     "data": {
      "text/plain": [
       "404.0833333333333"
      ]
     },
     "execution_count": 54,
     "metadata": {},
     "output_type": "execute_result"
    }
   ],
   "source": [
    "np.average(response_wc)"
   ]
  },
  {
   "cell_type": "code",
   "execution_count": 47,
   "metadata": {},
   "outputs": [
    {
     "data": {
      "text/plain": [
       "0.3863284700243318"
      ]
     },
     "execution_count": 47,
     "metadata": {},
     "output_type": "execute_result"
    }
   ],
   "source": [
    "np.average(research_lex, weights=research_wc)"
   ]
  },
  {
   "cell_type": "code",
   "execution_count": 48,
   "metadata": {},
   "outputs": [
    {
     "data": {
      "text/plain": [
       "12.14018815974827"
      ]
     },
     "execution_count": 48,
     "metadata": {},
     "output_type": "execute_result"
    }
   ],
   "source": [
    "np.average(research_gf, weights=research_wc)"
   ]
  },
  {
   "cell_type": "code",
   "execution_count": 49,
   "metadata": {},
   "outputs": [
    {
     "data": {
      "text/plain": [
       "1.8677824225681932"
      ]
     },
     "execution_count": 49,
     "metadata": {},
     "output_type": "execute_result"
    }
   ],
   "source": [
    "np.average(research_syl, weights=research_wc)"
   ]
  },
  {
   "cell_type": "code",
   "execution_count": 50,
   "metadata": {},
   "outputs": [
    {
     "data": {
      "text/plain": [
       "28.32726989992865"
      ]
     },
     "execution_count": 50,
     "metadata": {},
     "output_type": "execute_result"
    }
   ],
   "source": [
    "np.average(research_alt, weights=research_wc)"
   ]
  },
  {
   "cell_type": "code",
   "execution_count": 55,
   "metadata": {},
   "outputs": [
    {
     "data": {
      "text/plain": [
       "1561.7428571428572"
      ]
     },
     "execution_count": 55,
     "metadata": {},
     "output_type": "execute_result"
    }
   ],
   "source": [
    "np.average(research_wc)"
   ]
  },
  {
   "cell_type": "code",
   "execution_count": 51,
   "metadata": {},
   "outputs": [
    {
     "data": {
      "text/plain": [
       "(array([ 4.,  2.,  7., 13., 21., 29., 28., 24.,  7.,  5.]),\n",
       " array([ 0.8 ,  6.05, 11.3 , 16.55, 21.8 , 27.05, 32.3 , 37.55, 42.8 ,\n",
       "        48.05, 53.3 ]),\n",
       " <a list of 10 Patch objects>)"
      ]
     },
     "execution_count": 51,
     "metadata": {},
     "output_type": "execute_result"
    },
    {
     "data": {
      "image/png": "[encoded data removed]",
      "text/plain": [
       "<Figure size 432x288 with 1 Axes>"
      ]
     },
     "metadata": {
      "needs_background": "light"
     },
     "output_type": "display_data"
    }
   ],
   "source": [
    "plt.hist(research_alt)"
   ]
  },
  {
   "cell_type": "code",
   "execution_count": 52,
   "metadata": {},
   "outputs": [
    {
     "data": {
      "text/plain": [
       "(array([2., 4., 1., 3., 7., 2., 0., 2., 1., 2.]),\n",
       " array([21.5 , 25.14, 28.78, 32.42, 36.06, 39.7 , 43.34, 46.98, 50.62,\n",
       "        54.26, 57.9 ]),\n",
       " <a list of 10 Patch objects>)"
      ]
     },
     "execution_count": 52,
     "metadata": {},
     "output_type": "execute_result"
    },
    {
     "data": {
      "image/png": "[encoded data removed]",
      "text/plain": [
       "<Figure size 432x288 with 1 Axes>"
      ]
     },
     "metadata": {
      "needs_background": "light"
     },
     "output_type": "display_data"
    }
   ],
   "source": [
    "plt.hist(response_alt)"
   ]
  },
  {
   "cell_type": "code",
   "execution_count": 43,
   "metadata": {},
   "outputs": [
    {
     "data": {
      "text/plain": [
       "(array([1., 0., 1., 3., 2., 3., 4., 4., 2., 4.]),\n",
       " array([0.382 , 0.4203, 0.4586, 0.4969, 0.5352, 0.5735, 0.6118, 0.6501,\n",
       "        0.6884, 0.7267, 0.765 ]),\n",
       " <a list of 10 Patch objects>)"
      ]
     },
     "execution_count": 43,
     "metadata": {},
     "output_type": "execute_result"
    },
    {
     "data": {
      "image/png": "[encoded data removed]",
      "text/plain": [
       "<Figure size 432x288 with 1 Axes>"
      ]
     },
     "metadata": {
      "needs_background": "light"
     },
     "output_type": "display_data"
    }
   ],
   "source": [
    "plt.hist(response_lex)"
   ]
  },
  {
   "cell_type": "code",
   "execution_count": 32,
   "metadata": {},
   "outputs": [],
   "source": [
    "import pickle"
   ]
  },
  {
   "cell_type": "code",
   "execution_count": 33,
   "metadata": {},
   "outputs": [],
   "source": [
    "with open(\"response_stats.pickle\", \"wb\") as f:\n",
    "    pickle.dump({\n",
    "        'lex': response_lex,\n",
    "        'gf': response_gf,\n",
    "        'syl': response_syl,\n",
    "        'alt': response_alt,\n",
    "        'wc': response_wc\n",
    "    }, f)"
   ]
  },
  {
   "cell_type": "code",
   "execution_count": 34,
   "metadata": {},
   "outputs": [],
   "source": [
    "with open(\"research_stats.pickle\", \"wb\") as f:\n",
    "    pickle.dump({\n",
    "        'lex': research_lex,\n",
    "        'gf': research_gf,\n",
    "        'syl': research_syl,\n",
    "        'alt': research_alt,\n",
    "        'wc': research_wc\n",
    "    }, f)"
   ]
  },
  {
   "cell_type": "code",
   "execution_count": null,
   "metadata": {},
   "outputs": [],
   "source": []
  }
 ],
 "metadata": {
  "kernelspec": {
   "display_name": "Python 3",
   "language": "python",
   "name": "python3"
  },
  "language_info": {
   "codemirror_mode": {
    "name": "ipython",
    "version": 3
   },
   "file_extension": ".py",
   "mimetype": "text/x-python",
   "name": "python",
   "nbconvert_exporter": "python",
   "pygments_lexer": "ipython3",
   "version": "3.6.7"
  }
 },
 "nbformat": 4,
 "nbformat_minor": 2
}
